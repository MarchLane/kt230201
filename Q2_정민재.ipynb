{
 "cells": [
  {
   "cell_type": "code",
   "execution_count": 1,
   "id": "e58ab01c",
   "metadata": {},
   "outputs": [
    {
     "name": "stdout",
     "output_type": "stream",
     "text": [
      "26\n",
      "4\n"
     ]
    }
   ],
   "source": [
    "# Q2 Answer template\n",
    "\n",
    "N = input()\n",
    "if len(N) == 1 :\n",
    "    N = '0' + N\n",
    "else :\n",
    "    N = str(N)\n",
    "\n",
    "N_ = N\n",
    "count = 0\n",
    "while True:\n",
    "    \n",
    "    N_1 = int(N[0]) + int(N[1])\n",
    "    \n",
    "    N = N[1] + str(N_1)[-1]\n",
    "    \n",
    "    count += 1\n",
    "    \n",
    "    if N == N_ :\n",
    "        break\n",
    "\n",
    "print(count)"
   ]
  },
  {
   "cell_type": "code",
   "execution_count": null,
   "id": "0ee4d210",
   "metadata": {},
   "outputs": [],
   "source": []
  }
 ],
 "metadata": {
  "kernelspec": {
   "display_name": "Python 3 (ipykernel)",
   "language": "python",
   "name": "python3"
  },
  "language_info": {
   "codemirror_mode": {
    "name": "ipython",
    "version": 3
   },
   "file_extension": ".py",
   "mimetype": "text/x-python",
   "name": "python",
   "nbconvert_exporter": "python",
   "pygments_lexer": "ipython3",
   "version": "3.9.13"
  }
 },
 "nbformat": 4,
 "nbformat_minor": 5
}
