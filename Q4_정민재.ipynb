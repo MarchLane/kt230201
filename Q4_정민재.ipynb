{
 "cells": [
  {
   "cell_type": "code",
   "execution_count": 1,
   "id": "1e15f8b0",
   "metadata": {},
   "outputs": [
    {
     "name": "stdout",
     "output_type": "stream",
     "text": [
      "숫자로 이루어진 문자열을 입력하세요. 567\n",
      "210\n"
     ]
    }
   ],
   "source": [
    "# Q4 Answer Template\n",
    "data = input('숫자로 이루어진 문자열을 입력하세요. ')\n",
    "       \n",
    "data = int(data)\n",
    "data = str(data)\n",
    "\n",
    "result = 1\n",
    "\n",
    "for a in range(0, len(data)) :\n",
    "    if int(data[a]) == 0 :\n",
    "        result = result + int(data[a])\n",
    "    else :\n",
    "        result = result * int(data[a])\n",
    "\n",
    "print(result)"
   ]
  },
  {
   "cell_type": "code",
   "execution_count": null,
   "id": "a3c852b2",
   "metadata": {},
   "outputs": [],
   "source": []
  }
 ],
 "metadata": {
  "kernelspec": {
   "display_name": "Python 3 (ipykernel)",
   "language": "python",
   "name": "python3"
  },
  "language_info": {
   "codemirror_mode": {
    "name": "ipython",
    "version": 3
   },
   "file_extension": ".py",
   "mimetype": "text/x-python",
   "name": "python",
   "nbconvert_exporter": "python",
   "pygments_lexer": "ipython3",
   "version": "3.9.13"
  }
 },
 "nbformat": 4,
 "nbformat_minor": 5
}
